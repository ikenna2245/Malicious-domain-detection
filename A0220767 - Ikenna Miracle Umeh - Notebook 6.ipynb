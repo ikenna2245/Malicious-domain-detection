{
 "cells": [
  {
   "cell_type": "code",
   "execution_count": 105,
   "id": "01c6334c",
   "metadata": {},
   "outputs": [],
   "source": [
    "import pickle\n",
    "import pandas as pd\n",
    "from sklearn.metrics import classification_report\n",
    "import numpy as np\n",
    "import scipy.stats\n",
    "from sklearn.metrics import roc_curve, auc, roc_auc_score"
   ]
  },
  {
   "cell_type": "code",
   "execution_count": 3,
   "id": "a03a8c26",
   "metadata": {},
   "outputs": [],
   "source": [
    "xgb_lexical = pickle.load(open('xgB_lexical_model.sav', 'rb'))"
   ]
  },
  {
   "cell_type": "code",
   "execution_count": 4,
   "id": "dd3270d2",
   "metadata": {},
   "outputs": [],
   "source": [
    "rf_pm = pickle.load(open('rf_pm_model.sav', 'rb'))"
   ]
  },
  {
   "cell_type": "code",
   "execution_count": 69,
   "id": "73e23d16",
   "metadata": {},
   "outputs": [],
   "source": [
    "lr_tfidf = pickle.load(open('lr_tfidf_model.sav', 'rb'))"
   ]
  },
  {
   "cell_type": "markdown",
   "id": "e6f08a1f",
   "metadata": {},
   "source": [
    "## Lexical model chosen was XGBoost classifer which is also an ensemble boosting model"
   ]
  },
  {
   "cell_type": "code",
   "execution_count": 8,
   "id": "8c1307c2",
   "metadata": {},
   "outputs": [],
   "source": [
    "# loading the pipeline for features transformation\n",
    "pipeline_lecixal = pickle.load(open('pipeline_model.sav', 'rb'))"
   ]
  },
  {
   "cell_type": "code",
   "execution_count": 15,
   "id": "5c922bf8",
   "metadata": {},
   "outputs": [
    {
     "name": "stderr",
     "output_type": "stream",
     "text": [
      "C:\\ProgramData\\Anaconda3\\lib\\site-packages\\numpy\\lib\\arraysetops.py:583: FutureWarning: elementwise comparison failed; returning scalar instead, but in the future will perform elementwise comparison\n",
      "  mask |= (ar1 == a)\n"
     ]
    }
   ],
   "source": [
    "urldata = pd.read_csv('urldata.csv', index_col='Unnamed: 0')[:61000]"
   ]
  },
  {
   "cell_type": "code",
   "execution_count": 18,
   "id": "353c3724",
   "metadata": {},
   "outputs": [],
   "source": [
    "X_test = pipeline_lecixal.transform(urldata)"
   ]
  },
  {
   "cell_type": "code",
   "execution_count": 21,
   "id": "be8881c4",
   "metadata": {},
   "outputs": [],
   "source": [
    "y_predict_lexical = xgb_lexical.predict(X_test)"
   ]
  },
  {
   "cell_type": "code",
   "execution_count": 30,
   "id": "989df476",
   "metadata": {},
   "outputs": [],
   "source": [
    "y_prob_lexical = xgb_lexical.predict_proba(X_test)[:,1]"
   ]
  },
  {
   "cell_type": "markdown",
   "id": "7a78d28e",
   "metadata": {},
   "source": [
    "## Performance model chosen was Random Forest classifer"
   ]
  },
  {
   "cell_type": "code",
   "execution_count": 23,
   "id": "2863357f",
   "metadata": {},
   "outputs": [],
   "source": [
    "# loading the pipeline for features transformation\n",
    "pm_pipeline = pickle.load(open('pm_pipeline.sav', 'rb'))"
   ]
  },
  {
   "cell_type": "code",
   "execution_count": 26,
   "id": "b551a3b6",
   "metadata": {},
   "outputs": [],
   "source": [
    "pm_data = pd.read_csv('urldata_pm.csv', index_col='Unnamed: 0')"
   ]
  },
  {
   "cell_type": "code",
   "execution_count": 28,
   "id": "6d0bdad4",
   "metadata": {},
   "outputs": [],
   "source": [
    "X_test_pm = pm_data.drop('observedTimeOrigin', axis=1)"
   ]
  },
  {
   "cell_type": "code",
   "execution_count": 29,
   "id": "9e2530dc",
   "metadata": {},
   "outputs": [],
   "source": [
    "X_test_pm = pm_pipeline.transform(X_test_pm)"
   ]
  },
  {
   "cell_type": "code",
   "execution_count": 32,
   "id": "343e5e2f",
   "metadata": {},
   "outputs": [],
   "source": [
    "y_predict_pm = rf_pm.predict(X_test_pm)"
   ]
  },
  {
   "cell_type": "code",
   "execution_count": 34,
   "id": "af5f2e83",
   "metadata": {},
   "outputs": [],
   "source": [
    "y_prob_pm = rf_pm.predict_proba(X_test_pm)[:,1]"
   ]
  },
  {
   "cell_type": "markdown",
   "id": "6ef3d5b5",
   "metadata": {},
   "source": [
    "## NLP model chosen was Logistic Regression Classifier"
   ]
  },
  {
   "cell_type": "code",
   "execution_count": 70,
   "id": "f3ba3125",
   "metadata": {},
   "outputs": [],
   "source": [
    "## load the text transformer vectorizer\n",
    "tfidf_vectorizer = pickle.load(open('tfidf_vectorizer_model.sav', 'rb'))"
   ]
  },
  {
   "cell_type": "code",
   "execution_count": 71,
   "id": "3dfc2230",
   "metadata": {},
   "outputs": [],
   "source": [
    "urldata_nlp = pd.read_csv('urldata_nlp.csv')"
   ]
  },
  {
   "cell_type": "code",
   "execution_count": 72,
   "id": "5b48ee4c",
   "metadata": {},
   "outputs": [],
   "source": [
    "X_test_nlp = urldata_nlp['clean_text'][:61000]"
   ]
  },
  {
   "cell_type": "code",
   "execution_count": 73,
   "id": "838dcf25",
   "metadata": {},
   "outputs": [],
   "source": [
    "X_test_nlp = tfidf_vectorizer.transform(X_test_nlp)"
   ]
  },
  {
   "cell_type": "code",
   "execution_count": 74,
   "id": "69f331b3",
   "metadata": {},
   "outputs": [],
   "source": [
    "y_predict_nlp = lr_tfidf.predict(X_test_nlp)"
   ]
  },
  {
   "cell_type": "code",
   "execution_count": 75,
   "id": "1a00d6f0",
   "metadata": {},
   "outputs": [],
   "source": [
    "y_prob_nlp = lr_tfidf.predict_proba(X_test_nlp)[:,1]"
   ]
  },
  {
   "cell_type": "markdown",
   "id": "317787b2",
   "metadata": {},
   "source": [
    "# Ensembling the result of all three models and evaluating the model."
   ]
  },
  {
   "cell_type": "code",
   "execution_count": 77,
   "id": "73ada1c8",
   "metadata": {},
   "outputs": [],
   "source": [
    "#The label for the test data set\n",
    "urldata = pd.read_csv('urldata_nlp.csv')\n",
    "def type_encoder(x):\n",
    "    if x == 'malicious':\n",
    "        return 1\n",
    "    elif x == 'benign':\n",
    "        return 0\n",
    "    else:\n",
    "        return x\n",
    "\n",
    "urldata['target'] = urldata['type'].apply(lambda x: type_encoder(x))\n",
    "\n",
    "y = urldata['target'][:61000]\n"
   ]
  },
  {
   "cell_type": "code",
   "execution_count": 99,
   "id": "bcfdf0db",
   "metadata": {},
   "outputs": [],
   "source": [
    "y_predict_arr = [np.array(y_predict_lexical), np.array(y_predict_pm), np.array(y_predict_nlp)]\n",
    "y_predict = scipy.stats.mode(np.stack(y_predict_arr), axis=0)"
   ]
  },
  {
   "cell_type": "code",
   "execution_count": 104,
   "id": "55e51223",
   "metadata": {},
   "outputs": [
    {
     "name": "stdout",
     "output_type": "stream",
     "text": [
      "              precision    recall  f1-score   support\n",
      "\n",
      "           0       0.99      1.00      0.99     45169\n",
      "           1       1.00      0.97      0.98     15831\n",
      "\n",
      "    accuracy                           0.99     61000\n",
      "   macro avg       0.99      0.98      0.99     61000\n",
      "weighted avg       0.99      0.99      0.99     61000\n",
      "\n"
     ]
    }
   ],
   "source": [
    "print(classification_report(y, y_predict.mode.tolist()[0]))"
   ]
  },
  {
   "cell_type": "code",
   "execution_count": 106,
   "id": "00efef84",
   "metadata": {},
   "outputs": [],
   "source": [
    "y_prob_arr = [np.array(y_prob_lexical), np.array(y_prob_pm), np.array(y_prob_nlp)]\n",
    "y_prob = scipy.stats.mode(np.stack(y_prob_arr), axis=0)"
   ]
  },
  {
   "cell_type": "code",
   "execution_count": 107,
   "id": "36dee2fc",
   "metadata": {},
   "outputs": [
    {
     "name": "stdout",
     "output_type": "stream",
     "text": [
      "AUC: 0.9884041465738733\n"
     ]
    }
   ],
   "source": [
    "fpr, tpr, thresholds = roc_curve(y, y_prob.mode.tolist()[0])\n",
    "roc_auc = auc(fpr, tpr)\n",
    "print('AUC:', roc_auc)"
   ]
  }
 ],
 "metadata": {
  "kernelspec": {
   "display_name": "Python 3",
   "language": "python",
   "name": "python3"
  },
  "language_info": {
   "codemirror_mode": {
    "name": "ipython",
    "version": 3
   },
   "file_extension": ".py",
   "mimetype": "text/x-python",
   "name": "python",
   "nbconvert_exporter": "python",
   "pygments_lexer": "ipython3",
   "version": "3.8.8"
  }
 },
 "nbformat": 4,
 "nbformat_minor": 5
}
