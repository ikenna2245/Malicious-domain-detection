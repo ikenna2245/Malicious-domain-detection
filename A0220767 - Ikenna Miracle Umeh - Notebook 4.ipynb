{
 "cells": [
  {
   "cell_type": "code",
   "execution_count": 15,
   "id": "7a165412",
   "metadata": {},
   "outputs": [],
   "source": [
    "import pandas as pd\n",
    "import numpy as np\n",
    "\n",
    "from sklearn.pipeline import Pipeline\n",
    "from sklearn.compose import ColumnTransformer\n",
    "from sklearn.preprocessing import OneHotEncoder\n",
    "from sklearn.preprocessing import MinMaxScaler\n",
    "from sklearn.model_selection import train_test_split\n",
    "from sklearn.metrics import classification_report, f1_score, accuracy_score, confusion_matrix\n",
    "from sklearn.metrics import roc_curve, auc, roc_auc_score\n",
    "\n",
    "from sklearn.ensemble import RandomForestClassifier, AdaBoostClassifier\n",
    "from sklearn.model_selection import cross_val_score\n",
    "from sklearn.model_selection import GridSearchCV\n",
    "\n",
    "# bag of words\n",
    "from sklearn.feature_extraction.text import TfidfVectorizer\n",
    "from sklearn.feature_extraction.text import CountVectorizer\n",
    "from sklearn import svm\n",
    "import xgboost as xgb\n",
    "\n",
    "import pickle"
   ]
  },
  {
   "cell_type": "code",
   "execution_count": 2,
   "id": "898e63ac",
   "metadata": {},
   "outputs": [],
   "source": [
    "urldata = pd.read_csv('urldata_nlp.csv')"
   ]
  },
  {
   "cell_type": "code",
   "execution_count": 3,
   "id": "9944a9e5",
   "metadata": {},
   "outputs": [],
   "source": [
    "def type_encoder(x):\n",
    "    if x == 'malicious':\n",
    "        return 1\n",
    "    elif x == 'benign':\n",
    "        return 0\n",
    "    else:\n",
    "        return x\n",
    "\n",
    "urldata['target'] = urldata['type'].apply(lambda x: type_encoder(x))"
   ]
  },
  {
   "cell_type": "code",
   "execution_count": 4,
   "id": "ef376031",
   "metadata": {},
   "outputs": [],
   "source": [
    "urldata[\"clean_text\"].dropna(inplace=True)\n",
    "# convert the column to string\n",
    "urldata['clean_text'] = urldata['clean_text'].astype(str)"
   ]
  },
  {
   "cell_type": "code",
   "execution_count": 5,
   "id": "1395a1ec",
   "metadata": {},
   "outputs": [],
   "source": [
    "X_train, X_test, y_train, y_test = train_test_split(urldata[\"clean_text\"], urldata[\"target\"],test_size=0.2,shuffle=True)"
   ]
  },
  {
   "cell_type": "code",
   "execution_count": 6,
   "id": "99f2b1a0",
   "metadata": {},
   "outputs": [],
   "source": [
    "#Tf-Idf\n",
    "tfidf_vectorizer = TfidfVectorizer(use_idf=True)\n",
    "X_train_vectors_tfidf = tfidf_vectorizer.fit_transform(X_train) \n",
    "X_test_vectors_tfidf = tfidf_vectorizer.transform(X_test)"
   ]
  },
  {
   "cell_type": "code",
   "execution_count": 8,
   "id": "16560ff7",
   "metadata": {},
   "outputs": [
    {
     "name": "stdout",
     "output_type": "stream",
     "text": [
      "              precision    recall  f1-score   support\n",
      "\n",
      "           0       0.85      0.94      0.89    154905\n",
      "           1       0.79      0.58      0.67     63141\n",
      "\n",
      "    accuracy                           0.83    218046\n",
      "   macro avg       0.82      0.76      0.78    218046\n",
      "weighted avg       0.83      0.83      0.83    218046\n",
      "\n",
      "Confusion Matrix: [[144846  10059]\n",
      " [ 26268  36873]]\n",
      "AUC: 0.8545273780751845\n"
     ]
    }
   ],
   "source": [
    "adaB_tfidf = AdaBoostClassifier()\n",
    "adaB_tfidf.fit(X_train_vectors_tfidf,y_train)\n",
    "y_pred = adaB_tfidf.predict(X_test_vectors_tfidf)\n",
    "y_prob = adaB_tfidf.predict_proba(X_test_vectors_tfidf)[:,1]\n",
    "print(classification_report(y_test,y_pred))\n",
    "print('Confusion Matrix:',confusion_matrix(y_test, y_pred))\n",
    " \n",
    "fpr, tpr, thresholds = roc_curve(y_test, y_prob)\n",
    "roc_auc = auc(fpr, tpr)\n",
    "print('AUC:', roc_auc)"
   ]
  },
  {
   "cell_type": "code",
   "execution_count": 9,
   "id": "9a8186b2",
   "metadata": {},
   "outputs": [],
   "source": [
    "filename = 'adaB_tfidf_model.sav'\n",
    "pickle.dump(adaB_tfidf, open(filename, 'wb'))"
   ]
  },
  {
   "cell_type": "code",
   "execution_count": 10,
   "id": "0568e8b4",
   "metadata": {},
   "outputs": [
    {
     "name": "stdout",
     "output_type": "stream",
     "text": [
      "              precision    recall  f1-score   support\n",
      "\n",
      "           0       0.92      0.96      0.94    154905\n",
      "           1       0.88      0.80      0.84     63141\n",
      "\n",
      "    accuracy                           0.91    218046\n",
      "   macro avg       0.90      0.88      0.89    218046\n",
      "weighted avg       0.91      0.91      0.91    218046\n",
      "\n",
      "Confusion Matrix: [[148183   6722]\n",
      " [ 12734  50407]]\n",
      "AUC: 0.9654118107787145\n"
     ]
    }
   ],
   "source": [
    "xgb_tfidf= xgb.XGBClassifier(n_estimators= 1000)\n",
    "xgb_tfidf.fit(X_train_vectors_tfidf,y_train)\n",
    "y_pred = xgb_tfidf.predict(X_test_vectors_tfidf)\n",
    "y_prob = xgb_tfidf.predict_proba(X_test_vectors_tfidf)[:,1]\n",
    "print(classification_report(y_test,y_pred))\n",
    "print('Confusion Matrix:',confusion_matrix(y_test, y_pred))\n",
    " \n",
    "fpr, tpr, thresholds = roc_curve(y_test, y_prob)\n",
    "roc_auc = auc(fpr, tpr)\n",
    "print('AUC:', roc_auc)"
   ]
  },
  {
   "cell_type": "code",
   "execution_count": 11,
   "id": "296275db",
   "metadata": {},
   "outputs": [],
   "source": [
    "filename = 'xgB_tfidf_model.sav'\n",
    "pickle.dump(xgb_tfidf, open(filename, 'wb'))"
   ]
  },
  {
   "cell_type": "code",
   "execution_count": 12,
   "id": "11315029",
   "metadata": {},
   "outputs": [
    {
     "name": "stdout",
     "output_type": "stream",
     "text": [
      "              precision    recall  f1-score   support\n",
      "\n",
      "           0       0.94      0.97      0.95    154905\n",
      "           1       0.91      0.85      0.88     63141\n",
      "\n",
      "    accuracy                           0.93    218046\n",
      "   macro avg       0.92      0.91      0.92    218046\n",
      "weighted avg       0.93      0.93      0.93    218046\n",
      "\n",
      "Confusion Matrix: [[149537   5368]\n",
      " [  9567  53574]]\n",
      "AUC: 0.9713607765339486\n"
     ]
    }
   ],
   "source": [
    "#FITTING THE CLASSIFICATION MODEL using random forest(tf-idf)\n",
    "rf_tfidf=RandomForestClassifier(n_estimators=100)\n",
    "rf_tfidf.fit(X_train_vectors_tfidf, y_train)  \n",
    "#Predict y value for test dataset\n",
    "y_predict = rf_tfidf.predict(X_test_vectors_tfidf)\n",
    "y_prob = rf_tfidf.predict_proba(X_test_vectors_tfidf)[:,1]\n",
    "print(classification_report(y_test,y_predict))\n",
    "print('Confusion Matrix:',confusion_matrix(y_test, y_predict))\n",
    " \n",
    "fpr, tpr, thresholds = roc_curve(y_test, y_prob)\n",
    "roc_auc = auc(fpr, tpr)\n",
    "print('AUC:', roc_auc)"
   ]
  },
  {
   "cell_type": "code",
   "execution_count": 13,
   "id": "d2b761c4",
   "metadata": {},
   "outputs": [],
   "source": [
    "filename = 'rf_tfidf_model.sav'\n",
    "pickle.dump(rf_tfidf, open(filename, 'wb'))"
   ]
  },
  {
   "cell_type": "code",
   "execution_count": null,
   "id": "0d71c14f",
   "metadata": {},
   "outputs": [],
   "source": [
    "svm_tfidf = svm.SVC(probability=True)\n",
    "svm_tfidf.fit(X_train_vectors_tfidf, y_train)\n",
    "\n",
    "#Predict y value for test dataset\n",
    "y_predict = svm_tfidf.predict(X_test_vectors_tfidf)\n",
    "y_prob = svm_tfidf.predict_proba(X_test_vectors_tfidf)[:,1]\n",
    "print(classification_report(y_test,y_predict))\n",
    "print('Confusion Matrix:',confusion_matrix(y_test, y_predict))\n",
    " \n",
    "fpr, tpr, thresholds = roc_curve(y_test, y_prob)\n",
    "roc_auc = auc(fpr, tpr)\n",
    "print('AUC:', roc_auc)"
   ]
  },
  {
   "cell_type": "code",
   "execution_count": null,
   "id": "ac1189f0",
   "metadata": {},
   "outputs": [],
   "source": [
    "filename = 'svm_tfidf_model.sav'\n",
    "pickle.dump(svm_tfidf, open(filename, 'wb'))"
   ]
  },
  {
   "cell_type": "code",
   "execution_count": null,
   "id": "522df975",
   "metadata": {},
   "outputs": [],
   "source": [
    "filename = 'tfidf_vectorizer_model.sav'\n",
    "pickle.dump(tfidf_vectorizer, open(filename, 'wb'))"
   ]
  }
 ],
 "metadata": {
  "kernelspec": {
   "display_name": "Python 3",
   "language": "python",
   "name": "python3"
  },
  "language_info": {
   "codemirror_mode": {
    "name": "ipython",
    "version": 3
   },
   "file_extension": ".py",
   "mimetype": "text/x-python",
   "name": "python",
   "nbconvert_exporter": "python",
   "pygments_lexer": "ipython3",
   "version": "3.8.8"
  }
 },
 "nbformat": 4,
 "nbformat_minor": 5
}
